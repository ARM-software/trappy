{
 "metadata": {
  "name": "",
  "signature": "sha256:ded984945c734a3585a14d915ef3ee75dad933f9d24e9e1e766756624f598f92"
 },
 "nbformat": 3,
 "nbformat_minor": 0,
 "worksheets": [
  {
   "cells": [
    {
     "cell_type": "code",
     "collapsed": false,
     "input": [
      "import sys,os\n",
      "import tempfile\n",
      "import shutil\n",
      "sys.path.append(\"..\")\n",
      "%pylab inline\n",
      "import trappy\n",
      "trace_thermal = \"./trace.txt\"\n",
      "trace_sched = \"../tests/trace_sched.txt\"\n",
      "TEMP_BASE = \"/tmp\""
     ],
     "language": "python",
     "metadata": {},
     "outputs": [
      {
       "output_type": "stream",
       "stream": "stdout",
       "text": [
        "Populating the interactive namespace from numpy and matplotlib\n"
       ]
      }
     ],
     "prompt_number": 1
    },
    {
     "cell_type": "code",
     "collapsed": false,
     "input": [
      "\n",
      "def setup_thermal():\n",
      "    tDir = tempfile.mkdtemp(dir=\"/tmp\", prefix=\"trappy_doc\", suffix = \".tempDir\")\n",
      "    shutil.copyfile(trace_thermal, os.path.join(tDir, \"trace.txt\"))\n",
      "    return tDir\n",
      "\n",
      "def setup_sched():\n",
      "    tDir = tempfile.mkdtemp(dir=\"/tmp\", prefix=\"trappy_doc\", suffix = \".tempDir\")\n",
      "    shutil.copyfile(trace_sched, os.path.join(tDir, \"trace.txt\"))\n",
      "    return tDir"
     ],
     "language": "python",
     "metadata": {},
     "outputs": [],
     "prompt_number": 2
    },
    {
     "cell_type": "code",
     "collapsed": false,
     "input": [
      "temp_thermal_location = setup_thermal()\n",
      "run1 = trappy.Run(temp_thermal_location)\n",
      "run2 = trappy.Run(temp_thermal_location)\n",
      "run2.thermal.data_frame[\"temp\"] = run1.thermal.data_frame[\"temp\"] * 2\n",
      "run2.cpu_out_power.data_frame[\"power\"] = run1.cpu_out_power.data_frame[\"power\"] * 2"
     ],
     "language": "python",
     "metadata": {},
     "outputs": [],
     "prompt_number": 3
    },
    {
     "cell_type": "heading",
     "level": 1,
     "metadata": {},
     "source": [
      "No Pivot Simple"
     ]
    },
    {
     "cell_type": "code",
     "collapsed": false,
     "input": [
      "        l = trappy.ILinePlot(run1, trappy.thermal.Thermal, column=[\"temp\"])\n",
      "        l.view()"
     ],
     "language": "python",
     "metadata": {},
     "outputs": [
      {
       "html": [
        "<table style=\"width: 900px; border-style: hidden;\">\n",
        "<tr>\n",
        "<td style=\"border-style: hidden;\"><div class=\"ilineplot\" id=\"fig_38302de681be4cf694386c1ec02b5bf3\" style=\"width: 900px; height: 400px;\">\n",
        "            <script>\n",
        "            var ilp_req = require.config( {\n",
        "\n",
        "                paths: {\n",
        "                    \"dygraph-sync\": '/static/plotter_scripts/ILinePlot/synchronizer',\n",
        "                    \"dygraph\": '/static/plotter_scripts/ILinePlot/dygraph-combined',\n",
        "                    \"ILinePlot\": '/static/plotter_scripts/ILinePlot/ILinePlot',\n",
        "                },\n",
        "\n",
        "                shim: {\n",
        "                    \"dygraph-sync\": [\"dygraph\"],\n",
        "                    \"ILinePlot\": {\n",
        "\n",
        "                        \"deps\": [\"dygraph-sync\", \"dygraph\" ],\n",
        "                        \"exports\":  \"ILinePlot\"\n",
        "                    }\n",
        "                }\n",
        "            });\n",
        "                ilp_req([\"require\", \"ILinePlot\"], function() {\n",
        "                ILinePlot.generate('fig_38302de681be4cf694386c1ec02b5bf3', '/static/');\n",
        "            });\n",
        "            </script>\n",
        "        </div></td>\n",
        "</tr>\n",
        "<tr>\n",
        "<td style=\"border-style: hidden;\"><div style=\"text-align:right; width: 900px; height: auto;\"; id=\"fig_38302de681be4cf694386c1ec02b5bf3_legend\"></div></td>\n",
        "</tr>"
       ],
       "metadata": {},
       "output_type": "display_data",
       "text": [
        "<IPython.core.display.HTML at 0x7ff0bc9f80d0>"
       ]
      }
     ],
     "prompt_number": 4
    },
    {
     "cell_type": "heading",
     "level": 1,
     "metadata": {},
     "source": [
      "No Pivot Multi Run"
     ]
    },
    {
     "cell_type": "code",
     "collapsed": false,
     "input": [
      "        l = trappy.ILinePlot(\n",
      "            [run1, run2], trappy.thermal.Thermal, column=[\"temp\"])\n",
      "        l.view()\n"
     ],
     "language": "python",
     "metadata": {},
     "outputs": [
      {
       "html": [
        "<table style=\"width: 900px; border-style: hidden;\">\n",
        "<tr>\n",
        "<td style=\"border-style: hidden;\"><div class=\"ilineplot\" id=\"fig_8450fb7f4cd64c79b8cf0c21b49dd2e0\" style=\"width: 900px; height: 400px;\">\n",
        "            <script>\n",
        "            var ilp_req = require.config( {\n",
        "\n",
        "                paths: {\n",
        "                    \"dygraph-sync\": '/static/plotter_scripts/ILinePlot/synchronizer',\n",
        "                    \"dygraph\": '/static/plotter_scripts/ILinePlot/dygraph-combined',\n",
        "                    \"ILinePlot\": '/static/plotter_scripts/ILinePlot/ILinePlot',\n",
        "                },\n",
        "\n",
        "                shim: {\n",
        "                    \"dygraph-sync\": [\"dygraph\"],\n",
        "                    \"ILinePlot\": {\n",
        "\n",
        "                        \"deps\": [\"dygraph-sync\", \"dygraph\" ],\n",
        "                        \"exports\":  \"ILinePlot\"\n",
        "                    }\n",
        "                }\n",
        "            });\n",
        "                ilp_req([\"require\", \"ILinePlot\"], function() {\n",
        "                ILinePlot.generate('fig_8450fb7f4cd64c79b8cf0c21b49dd2e0', '/static/');\n",
        "            });\n",
        "            </script>\n",
        "        </div></td>\n",
        "</tr>\n",
        "<tr>\n",
        "<td style=\"border-style: hidden;\"><div style=\"text-align:right; width: 900px; height: auto;\"; id=\"fig_8450fb7f4cd64c79b8cf0c21b49dd2e0_legend\"></div></td>\n",
        "</tr>"
       ],
       "metadata": {},
       "output_type": "display_data",
       "text": [
        "<IPython.core.display.HTML at 0x7ff0b640a850>"
       ]
      }
     ],
     "prompt_number": 5
    },
    {
     "cell_type": "heading",
     "level": 1,
     "metadata": {},
     "source": [
      "No Pivot Mutiple Columns and Runs"
     ]
    },
    {
     "cell_type": "code",
     "collapsed": false,
     "input": [
      "        l = trappy.ILinePlot([run1,\n",
      "                                  run2],\n",
      "                                 [trappy.thermal.Thermal,\n",
      "                                  trappy.thermal.ThermalGovernor],\n",
      "                                 column=[\"temp\",\n",
      "                                         \"power_range\"])\n",
      "        l.view()\n"
     ],
     "language": "python",
     "metadata": {},
     "outputs": [
      {
       "html": [
        "<table style=\"width: 900px; border-style: hidden;\">\n",
        "<tr>\n",
        "<td style=\"border-style: hidden;\"><div class=\"ilineplot\" id=\"fig_c011db91c2224ea7b6b3668e36732568\" style=\"width: 900px; height: 400px;\">\n",
        "            <script>\n",
        "            var ilp_req = require.config( {\n",
        "\n",
        "                paths: {\n",
        "                    \"dygraph-sync\": '/static/plotter_scripts/ILinePlot/synchronizer',\n",
        "                    \"dygraph\": '/static/plotter_scripts/ILinePlot/dygraph-combined',\n",
        "                    \"ILinePlot\": '/static/plotter_scripts/ILinePlot/ILinePlot',\n",
        "                },\n",
        "\n",
        "                shim: {\n",
        "                    \"dygraph-sync\": [\"dygraph\"],\n",
        "                    \"ILinePlot\": {\n",
        "\n",
        "                        \"deps\": [\"dygraph-sync\", \"dygraph\" ],\n",
        "                        \"exports\":  \"ILinePlot\"\n",
        "                    }\n",
        "                }\n",
        "            });\n",
        "                ilp_req([\"require\", \"ILinePlot\"], function() {\n",
        "                ILinePlot.generate('fig_c011db91c2224ea7b6b3668e36732568', '/static/');\n",
        "            });\n",
        "            </script>\n",
        "        </div></td>\n",
        "</tr>\n",
        "<tr>\n",
        "<td style=\"border-style: hidden;\"><div style=\"text-align:right; width: 900px; height: auto;\"; id=\"fig_c011db91c2224ea7b6b3668e36732568_legend\"></div></td>\n",
        "</tr>"
       ],
       "metadata": {},
       "output_type": "display_data",
       "text": [
        "<IPython.core.display.HTML at 0x7ff0b63e1410>"
       ]
      }
     ],
     "prompt_number": 6
    },
    {
     "cell_type": "heading",
     "level": 1,
     "metadata": {},
     "source": [
      "No Pivot With Filters"
     ]
    },
    {
     "cell_type": "code",
     "collapsed": false,
     "input": [
      "        l = trappy.ILinePlot([run1,\n",
      "                                  run2],\n",
      "                                 [trappy.cpu_power.CpuOutPower],\n",
      "                                 column=[\"power\"],\n",
      "                                 filters={\"cdev_state\": [0]})\n",
      "        l.view()"
     ],
     "language": "python",
     "metadata": {},
     "outputs": [
      {
       "html": [
        "<table style=\"width: 900px; border-style: hidden;\">\n",
        "<tr>\n",
        "<td style=\"border-style: hidden;\"><div class=\"ilineplot\" id=\"fig_1fc738ace4d6440f878e370cf8f78c0a\" style=\"width: 900px; height: 400px;\">\n",
        "            <script>\n",
        "            var ilp_req = require.config( {\n",
        "\n",
        "                paths: {\n",
        "                    \"dygraph-sync\": '/static/plotter_scripts/ILinePlot/synchronizer',\n",
        "                    \"dygraph\": '/static/plotter_scripts/ILinePlot/dygraph-combined',\n",
        "                    \"ILinePlot\": '/static/plotter_scripts/ILinePlot/ILinePlot',\n",
        "                },\n",
        "\n",
        "                shim: {\n",
        "                    \"dygraph-sync\": [\"dygraph\"],\n",
        "                    \"ILinePlot\": {\n",
        "\n",
        "                        \"deps\": [\"dygraph-sync\", \"dygraph\" ],\n",
        "                        \"exports\":  \"ILinePlot\"\n",
        "                    }\n",
        "                }\n",
        "            });\n",
        "                ilp_req([\"require\", \"ILinePlot\"], function() {\n",
        "                ILinePlot.generate('fig_1fc738ace4d6440f878e370cf8f78c0a', '/static/');\n",
        "            });\n",
        "            </script>\n",
        "        </div></td>\n",
        "</tr>\n",
        "<tr>\n",
        "<td style=\"border-style: hidden;\"><div style=\"text-align:right; width: 900px; height: auto;\"; id=\"fig_1fc738ace4d6440f878e370cf8f78c0a_legend\"></div></td>\n",
        "</tr>"
       ],
       "metadata": {},
       "output_type": "display_data",
       "text": [
        "<IPython.core.display.HTML at 0x7ff0bc9f80d0>"
       ]
      }
     ],
     "prompt_number": 7
    },
    {
     "cell_type": "heading",
     "level": 1,
     "metadata": {},
     "source": [
      "Pivoted Data"
     ]
    },
    {
     "cell_type": "code",
     "collapsed": false,
     "input": [
      "        l = trappy.ILinePlot(\n",
      "            run1,\n",
      "            trappy.thermal.Thermal,\n",
      "            column=[\"temp\"],\n",
      "            pivot=\"thermal_zone\")\n",
      "        l.view()"
     ],
     "language": "python",
     "metadata": {},
     "outputs": [
      {
       "html": [
        "<table style=\"width: 900px; border-style: hidden;\">\n",
        "<tr>\n",
        "<td style=\"border-style: hidden;\"><div class=\"ilineplot\" id=\"fig_b127da2da33c46f885d5e46bb851dbe4\" style=\"width: 900px; height: 400px;\">\n",
        "            <script>\n",
        "            var ilp_req = require.config( {\n",
        "\n",
        "                paths: {\n",
        "                    \"dygraph-sync\": '/static/plotter_scripts/ILinePlot/synchronizer',\n",
        "                    \"dygraph\": '/static/plotter_scripts/ILinePlot/dygraph-combined',\n",
        "                    \"ILinePlot\": '/static/plotter_scripts/ILinePlot/ILinePlot',\n",
        "                },\n",
        "\n",
        "                shim: {\n",
        "                    \"dygraph-sync\": [\"dygraph\"],\n",
        "                    \"ILinePlot\": {\n",
        "\n",
        "                        \"deps\": [\"dygraph-sync\", \"dygraph\" ],\n",
        "                        \"exports\":  \"ILinePlot\"\n",
        "                    }\n",
        "                }\n",
        "            });\n",
        "                ilp_req([\"require\", \"ILinePlot\"], function() {\n",
        "                ILinePlot.generate('fig_b127da2da33c46f885d5e46bb851dbe4', '/static/');\n",
        "            });\n",
        "            </script>\n",
        "        </div></td>\n",
        "</tr>\n",
        "<tr>\n",
        "<td style=\"border-style: hidden;\"><div style=\"text-align:right; width: 900px; height: auto;\"; id=\"fig_b127da2da33c46f885d5e46bb851dbe4_legend\"></div></td>\n",
        "</tr>"
       ],
       "metadata": {},
       "output_type": "display_data",
       "text": [
        "<IPython.core.display.HTML at 0x7ff0b640a850>"
       ]
      }
     ],
     "prompt_number": 8
    },
    {
     "cell_type": "heading",
     "level": 1,
     "metadata": {},
     "source": [
      "Pivoted Multi Run Data"
     ]
    },
    {
     "cell_type": "code",
     "collapsed": false,
     "input": [
      "        l = trappy.ILinePlot(\n",
      "            [run1, run2], trappy.cpu_power.CpuOutPower, column=[\"power\"], pivot=\"cpus\")\n",
      "        l.view()"
     ],
     "language": "python",
     "metadata": {},
     "outputs": [
      {
       "html": [
        "<table style=\"width: 900px; border-style: hidden;\">\n",
        "<tr>\n",
        "<td style=\"border-style: hidden;\"><div class=\"ilineplot\" id=\"fig_634664c66929453d8b2a5f76bd1d45e2\" style=\"width: 450px; height: 400px;\">\n",
        "            <script>\n",
        "            var ilp_req = require.config( {\n",
        "\n",
        "                paths: {\n",
        "                    \"dygraph-sync\": '/static/plotter_scripts/ILinePlot/synchronizer',\n",
        "                    \"dygraph\": '/static/plotter_scripts/ILinePlot/dygraph-combined',\n",
        "                    \"ILinePlot\": '/static/plotter_scripts/ILinePlot/ILinePlot',\n",
        "                },\n",
        "\n",
        "                shim: {\n",
        "                    \"dygraph-sync\": [\"dygraph\"],\n",
        "                    \"ILinePlot\": {\n",
        "\n",
        "                        \"deps\": [\"dygraph-sync\", \"dygraph\" ],\n",
        "                        \"exports\":  \"ILinePlot\"\n",
        "                    }\n",
        "                }\n",
        "            });\n",
        "                ilp_req([\"require\", \"ILinePlot\"], function() {\n",
        "                ILinePlot.generate('fig_634664c66929453d8b2a5f76bd1d45e2', '/static/');\n",
        "            });\n",
        "            </script>\n",
        "        </div></td>\n",
        "<td style=\"border-style: hidden;\"><div class=\"ilineplot\" id=\"fig_8d207c7bd15a4a0e8a4ba504fd207afa\" style=\"width: 450px; height: 400px;\">\n",
        "            <script>\n",
        "            var ilp_req = require.config( {\n",
        "\n",
        "                paths: {\n",
        "                    \"dygraph-sync\": '/static/plotter_scripts/ILinePlot/synchronizer',\n",
        "                    \"dygraph\": '/static/plotter_scripts/ILinePlot/dygraph-combined',\n",
        "                    \"ILinePlot\": '/static/plotter_scripts/ILinePlot/ILinePlot',\n",
        "                },\n",
        "\n",
        "                shim: {\n",
        "                    \"dygraph-sync\": [\"dygraph\"],\n",
        "                    \"ILinePlot\": {\n",
        "\n",
        "                        \"deps\": [\"dygraph-sync\", \"dygraph\" ],\n",
        "                        \"exports\":  \"ILinePlot\"\n",
        "                    }\n",
        "                }\n",
        "            });\n",
        "                ilp_req([\"require\", \"ILinePlot\"], function() {\n",
        "                ILinePlot.generate('fig_8d207c7bd15a4a0e8a4ba504fd207afa', '/static/');\n",
        "            });\n",
        "            </script>\n",
        "        </div></td>\n",
        "</tr>\n",
        "<tr>\n",
        "<td style=\"border-style: hidden;\"><div style=\"text-align:right; width: 450px; height: auto;\"; id=\"fig_634664c66929453d8b2a5f76bd1d45e2_legend\"></div></td>\n",
        "<td style=\"border-style: hidden;\"><div style=\"text-align:right; width: 450px; height: auto;\"; id=\"fig_8d207c7bd15a4a0e8a4ba504fd207afa_legend\"></div></td>\n",
        "</tr>"
       ],
       "metadata": {},
       "output_type": "display_data",
       "text": [
        "<IPython.core.display.HTML at 0x7ff0d839e390>"
       ]
      }
     ],
     "prompt_number": 9
    },
    {
     "cell_type": "heading",
     "level": 1,
     "metadata": {},
     "source": [
      "Pivoted Data Multiple Runs and Columns"
     ]
    },
    {
     "cell_type": "code",
     "collapsed": false,
     "input": [
      "        l = trappy.ILinePlot([run1,\n",
      "                                  run2],\n",
      "                                 [trappy.cpu_power.CpuInPower,\n",
      "                                  trappy.cpu_power.CpuOutPower],\n",
      "                                 column=[\"dynamic_power\", \"power\"],\n",
      "                                 pivot=\"cpus\")\n",
      "        l.view()"
     ],
     "language": "python",
     "metadata": {},
     "outputs": [
      {
       "html": [
        "<table style=\"width: 900px; border-style: hidden;\">\n",
        "<tr>\n",
        "<td style=\"border-style: hidden;\"><div class=\"ilineplot\" id=\"fig_cda709dca8ea4a859de9accf79e3f90d\" style=\"width: 450px; height: 400px;\">\n",
        "            <script>\n",
        "            var ilp_req = require.config( {\n",
        "\n",
        "                paths: {\n",
        "                    \"dygraph-sync\": '/static/plotter_scripts/ILinePlot/synchronizer',\n",
        "                    \"dygraph\": '/static/plotter_scripts/ILinePlot/dygraph-combined',\n",
        "                    \"ILinePlot\": '/static/plotter_scripts/ILinePlot/ILinePlot',\n",
        "                },\n",
        "\n",
        "                shim: {\n",
        "                    \"dygraph-sync\": [\"dygraph\"],\n",
        "                    \"ILinePlot\": {\n",
        "\n",
        "                        \"deps\": [\"dygraph-sync\", \"dygraph\" ],\n",
        "                        \"exports\":  \"ILinePlot\"\n",
        "                    }\n",
        "                }\n",
        "            });\n",
        "                ilp_req([\"require\", \"ILinePlot\"], function() {\n",
        "                ILinePlot.generate('fig_cda709dca8ea4a859de9accf79e3f90d', '/static/');\n",
        "            });\n",
        "            </script>\n",
        "        </div></td>\n",
        "<td style=\"border-style: hidden;\"><div class=\"ilineplot\" id=\"fig_4d85c8eeae384b5193d2aadc67627167\" style=\"width: 450px; height: 400px;\">\n",
        "            <script>\n",
        "            var ilp_req = require.config( {\n",
        "\n",
        "                paths: {\n",
        "                    \"dygraph-sync\": '/static/plotter_scripts/ILinePlot/synchronizer',\n",
        "                    \"dygraph\": '/static/plotter_scripts/ILinePlot/dygraph-combined',\n",
        "                    \"ILinePlot\": '/static/plotter_scripts/ILinePlot/ILinePlot',\n",
        "                },\n",
        "\n",
        "                shim: {\n",
        "                    \"dygraph-sync\": [\"dygraph\"],\n",
        "                    \"ILinePlot\": {\n",
        "\n",
        "                        \"deps\": [\"dygraph-sync\", \"dygraph\" ],\n",
        "                        \"exports\":  \"ILinePlot\"\n",
        "                    }\n",
        "                }\n",
        "            });\n",
        "                ilp_req([\"require\", \"ILinePlot\"], function() {\n",
        "                ILinePlot.generate('fig_4d85c8eeae384b5193d2aadc67627167', '/static/');\n",
        "            });\n",
        "            </script>\n",
        "        </div></td>\n",
        "</tr>\n",
        "<tr>\n",
        "<td style=\"border-style: hidden;\"><div style=\"text-align:right; width: 450px; height: auto;\"; id=\"fig_cda709dca8ea4a859de9accf79e3f90d_legend\"></div></td>\n",
        "<td style=\"border-style: hidden;\"><div style=\"text-align:right; width: 450px; height: auto;\"; id=\"fig_4d85c8eeae384b5193d2aadc67627167_legend\"></div></td>\n",
        "</tr>"
       ],
       "metadata": {},
       "output_type": "display_data",
       "text": [
        "<IPython.core.display.HTML at 0x7ff0b63f1c10>"
       ]
      }
     ],
     "prompt_number": 10
    },
    {
     "cell_type": "heading",
     "level": 1,
     "metadata": {},
     "source": [
      "Pivoted Data with filters"
     ]
    },
    {
     "cell_type": "code",
     "collapsed": false,
     "input": [
      "        l = trappy.ILinePlot(\n",
      "            run1,\n",
      "            trappy.cpu_power.CpuInPower,\n",
      "            column=[\n",
      "                \"dynamic_power\",\n",
      "                \"load1\"],\n",
      "            filters={\n",
      "                \"cdev_state\": [\n",
      "                    1,\n",
      "                    0]},\n",
      "            pivot=\"cpus\")\n",
      "        l.view()"
     ],
     "language": "python",
     "metadata": {},
     "outputs": [
      {
       "html": [
        "<table style=\"width: 900px; border-style: hidden;\">\n",
        "<tr>\n",
        "<td style=\"border-style: hidden;\"><div class=\"ilineplot\" id=\"fig_ebe395f8e0f841719fe220e64d88f32e\" style=\"width: 450px; height: 400px;\">\n",
        "            <script>\n",
        "            var ilp_req = require.config( {\n",
        "\n",
        "                paths: {\n",
        "                    \"dygraph-sync\": '/static/plotter_scripts/ILinePlot/synchronizer',\n",
        "                    \"dygraph\": '/static/plotter_scripts/ILinePlot/dygraph-combined',\n",
        "                    \"ILinePlot\": '/static/plotter_scripts/ILinePlot/ILinePlot',\n",
        "                },\n",
        "\n",
        "                shim: {\n",
        "                    \"dygraph-sync\": [\"dygraph\"],\n",
        "                    \"ILinePlot\": {\n",
        "\n",
        "                        \"deps\": [\"dygraph-sync\", \"dygraph\" ],\n",
        "                        \"exports\":  \"ILinePlot\"\n",
        "                    }\n",
        "                }\n",
        "            });\n",
        "                ilp_req([\"require\", \"ILinePlot\"], function() {\n",
        "                ILinePlot.generate('fig_ebe395f8e0f841719fe220e64d88f32e', '/static/');\n",
        "            });\n",
        "            </script>\n",
        "        </div></td>\n",
        "<td style=\"border-style: hidden;\"><div class=\"ilineplot\" id=\"fig_3659c20774db4f5b8ff340ee6e3ca10a\" style=\"width: 450px; height: 400px;\">\n",
        "            <script>\n",
        "            var ilp_req = require.config( {\n",
        "\n",
        "                paths: {\n",
        "                    \"dygraph-sync\": '/static/plotter_scripts/ILinePlot/synchronizer',\n",
        "                    \"dygraph\": '/static/plotter_scripts/ILinePlot/dygraph-combined',\n",
        "                    \"ILinePlot\": '/static/plotter_scripts/ILinePlot/ILinePlot',\n",
        "                },\n",
        "\n",
        "                shim: {\n",
        "                    \"dygraph-sync\": [\"dygraph\"],\n",
        "                    \"ILinePlot\": {\n",
        "\n",
        "                        \"deps\": [\"dygraph-sync\", \"dygraph\" ],\n",
        "                        \"exports\":  \"ILinePlot\"\n",
        "                    }\n",
        "                }\n",
        "            });\n",
        "                ilp_req([\"require\", \"ILinePlot\"], function() {\n",
        "                ILinePlot.generate('fig_3659c20774db4f5b8ff340ee6e3ca10a', '/static/');\n",
        "            });\n",
        "            </script>\n",
        "        </div></td>\n",
        "</tr>\n",
        "<tr>\n",
        "<td style=\"border-style: hidden;\"><div style=\"text-align:right; width: 450px; height: auto;\"; id=\"fig_ebe395f8e0f841719fe220e64d88f32e_legend\"></div></td>\n",
        "<td style=\"border-style: hidden;\"><div style=\"text-align:right; width: 450px; height: auto;\"; id=\"fig_3659c20774db4f5b8ff340ee6e3ca10a_legend\"></div></td>\n",
        "</tr>"
       ],
       "metadata": {},
       "output_type": "display_data",
       "text": [
        "<IPython.core.display.HTML at 0x7ff0b63c4a10>"
       ]
      }
     ],
     "prompt_number": 11
    }
   ],
   "metadata": {}
  }
 ]
}