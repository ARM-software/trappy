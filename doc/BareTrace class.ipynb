{
 "metadata": {
  "name": "",
  "signature": "sha256:07509ec03cc71263d49f2d8bb69f21bd039d5ddeeb3f3c81573002794049a1aa"
 },
 "nbformat": 3,
 "nbformat_minor": 0,
 "worksheets": [
  {
   "cells": [
    {
     "cell_type": "markdown",
     "metadata": {},
     "source": [
      "The `BareTrace` class lets you create a trace class that has been parsed outside of trappy.  This lets you leverage trappy's and bart's facilities with any type of trace."
     ]
    },
    {
     "cell_type": "markdown",
     "metadata": {},
     "source": [
      "Let's assume that we have events available in a csv file.  We can import them into a trace object by creating a `BareTrace` object and adding them using `add_parsed_event`."
     ]
    },
    {
     "cell_type": "code",
     "collapsed": false,
     "input": [
      "import pandas as pd\n",
      "import trappy"
     ],
     "language": "python",
     "metadata": {},
     "outputs": [],
     "prompt_number": 1
    },
    {
     "cell_type": "markdown",
     "metadata": {},
     "source": [
      "First we import the parsed events into a pandas DataFrame"
     ]
    },
    {
     "cell_type": "code",
     "collapsed": false,
     "input": [
      "event = pd.DataFrame.from_csv(\"sample_trace.csv\")"
     ],
     "language": "python",
     "metadata": {},
     "outputs": [],
     "prompt_number": 2
    },
    {
     "cell_type": "markdown",
     "metadata": {},
     "source": [
      "Now we create an trappy trace object and add our event to it.  "
     ]
    },
    {
     "cell_type": "code",
     "collapsed": false,
     "input": [
      "trace = trappy.BareTrace()\n",
      "trace.add_parsed_event(\"http_access\", event)"
     ],
     "language": "python",
     "metadata": {},
     "outputs": [],
     "prompt_number": 3
    },
    {
     "cell_type": "markdown",
     "metadata": {},
     "source": [
      "We can add more events if we had collected them from different sources.  Just call `.add_parsed_event()` for each of them"
     ]
    },
    {
     "cell_type": "code",
     "collapsed": false,
     "input": [
      "trappy.ILinePlot(trace, trace.http_access, column=[\"response_time\"]).view()"
     ],
     "language": "python",
     "metadata": {},
     "outputs": [
      {
       "html": [
        "<table style=\"border-style: hidden;\">\n",
        "<tr>\n",
        "<td style=\"border-style: hidden;\"><div class=\"ilineplot\" id=\"fig_8f6d6e5a36de49ef9c28f4285250c9c6\">\n",
        "            <script>\n",
        "            var ilp_req = require.config( {\n",
        "\n",
        "                paths: {\n",
        "                    \"dygraph-sync\": '/static/plotter_scripts/ILinePlot/synchronizer',\n",
        "                    \"dygraph\": '/static/plotter_scripts/ILinePlot/dygraph-combined',\n",
        "                    \"ILinePlot\": '/static/plotter_scripts/ILinePlot/ILinePlot',\n",
        "                    \"underscore\": '/static/plotter_scripts/ILinePlot/underscore-min',\n",
        "                },\n",
        "\n",
        "                shim: {\n",
        "                    \"dygraph-sync\": [\"dygraph\"],\n",
        "                    \"ILinePlot\": {\n",
        "\n",
        "                        \"deps\": [\"dygraph-sync\", \"dygraph\", \"underscore\"],\n",
        "                        \"exports\":  \"ILinePlot\"\n",
        "                    }\n",
        "                }\n",
        "            });\n",
        "                ilp_req([\"require\", \"ILinePlot\"], function() {\n",
        "                ILinePlot.generate('fig_8f6d6e5a36de49ef9c28f4285250c9c6', '/static/');\n",
        "            });\n",
        "            </script>\n",
        "        </div></td>\n",
        "</tr>\n",
        "<tr>\n",
        "<td style=\"border-style: hidden;\"><div style=\"text-align:right\" id=\"fig_8f6d6e5a36de49ef9c28f4285250c9c6_legend\"></div></td>\n",
        "</tr>\n",
        "</table>"
       ],
       "metadata": {},
       "output_type": "display_data",
       "text": [
        "<IPython.core.display.HTML at 0x7f20188b5f90>"
       ]
      }
     ],
     "prompt_number": 6
    }
   ],
   "metadata": {}
  }
 ]
}